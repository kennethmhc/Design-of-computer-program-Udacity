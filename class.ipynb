{
 "cells": [
  {
   "cell_type": "code",
   "execution_count": 34,
   "metadata": {
    "collapsed": true
   },
   "outputs": [],
   "source": [
    "class LittleMeta1(type):\n",
    "    def __new__(cls, clsname, superclasses):\n",
    "        print(\"clsname: \", clsname)\n",
    "        print(\"superclasses: \", superclasses)\n",
    "        #print(\"attributedict: \", attributedict)\n",
    "        return type.__new__(cls, clsname, superclasses)\n",
    "        #return type.__new__()\n",
    "    def __init__(self,*arg):\n",
    "        print(\"initialization\")\n",
    "    def __call__(self):\n",
    "        print(\"calling function\")"
   ]
  },
  {
   "cell_type": "code",
   "execution_count": 36,
   "metadata": {
    "collapsed": false
   },
   "outputs": [
    {
     "ename": "TypeError",
     "evalue": "__new__() takes 3 positional arguments but 4 were given",
     "output_type": "error",
     "traceback": [
      "\u001b[1;31m---------------------------------------------------------------------------\u001b[0m",
      "\u001b[1;31mTypeError\u001b[0m                                 Traceback (most recent call last)",
      "\u001b[1;32m<ipython-input-36-aea963d8f88f>\u001b[0m in \u001b[0;36m<module>\u001b[1;34m()\u001b[0m\n\u001b[0;32m      1\u001b[0m \u001b[1;32mclass\u001b[0m \u001b[0mS\u001b[0m\u001b[1;33m:\u001b[0m\u001b[1;33m\u001b[0m\u001b[0m\n\u001b[0;32m      2\u001b[0m     \u001b[1;32mpass\u001b[0m\u001b[1;33m\u001b[0m\u001b[0m\n\u001b[1;32m----> 3\u001b[1;33m \u001b[1;32mclass\u001b[0m \u001b[0mA1\u001b[0m\u001b[1;33m(\u001b[0m\u001b[0mS\u001b[0m\u001b[1;33m,\u001b[0m \u001b[0mmetaclass\u001b[0m\u001b[1;33m=\u001b[0m\u001b[0mLittleMeta1\u001b[0m\u001b[1;33m)\u001b[0m\u001b[1;33m:\u001b[0m\u001b[1;33m\u001b[0m\u001b[0m\n\u001b[0m\u001b[0;32m      4\u001b[0m     \u001b[1;32mpass\u001b[0m\u001b[1;33m\u001b[0m\u001b[0m\n\u001b[0;32m      5\u001b[0m \u001b[0ma\u001b[0m \u001b[1;33m=\u001b[0m \u001b[0mA1\u001b[0m\u001b[1;33m\u001b[0m\u001b[0m\n",
      "\u001b[1;31mTypeError\u001b[0m: __new__() takes 3 positional arguments but 4 were given"
     ]
    }
   ],
   "source": [
    "class S:\n",
    "    pass\n",
    "class A1(S, metaclass=LittleMeta1):\n",
    "    pass\n",
    "a = A1"
   ]
  },
  {
   "cell_type": "code",
   "execution_count": 39,
   "metadata": {
    "collapsed": true
   },
   "outputs": [],
   "source": [
    "class LittleMeta(type):\n",
    "    \"\"\"\n",
    "    def __new__(cls, clsname, superclasses, attributedict):\n",
    "        print(\"clsname: \", clsname)\n",
    "        print(\"superclasses: \", superclasses)\n",
    "        print(\"attributedict: \", attributedict)\n",
    "        return type.__new__(cls, clsname, superclasses, attributedict)\n",
    "        #return type.__new__()\n",
    "    \"\"\"\n",
    "    def __init__(self,*arg):\n",
    "        print(\"initialization\")\n",
    "        for i in arg:\n",
    "            print(i)\n",
    "    def __call__(self):\n",
    "        print(\"calling function\")"
   ]
  },
  {
   "cell_type": "code",
   "execution_count": 40,
   "metadata": {
    "collapsed": false
   },
   "outputs": [
    {
     "name": "stdout",
     "output_type": "stream",
     "text": [
      "initialization\n",
      "A\n",
      "(<class '__main__.S'>,)\n",
      "{'__qualname__': 'A', '__module__': '__main__'}\n"
     ]
    }
   ],
   "source": [
    "class S:\n",
    "    pass\n",
    "class A(S, metaclass=LittleMeta):\n",
    "    pass\n",
    "a = A"
   ]
  },
  {
   "cell_type": "code",
   "execution_count": 33,
   "metadata": {
    "collapsed": false
   },
   "outputs": [
    {
     "name": "stdout",
     "output_type": "stream",
     "text": [
      "calling function\n"
     ]
    }
   ],
   "source": [
    "a()"
   ]
  },
  {
   "cell_type": "code",
   "execution_count": 13,
   "metadata": {
    "collapsed": false
   },
   "outputs": [
    {
     "data": {
      "text/plain": [
       "mappingproxy({'__module__': '__main__', '__doc__': None})"
      ]
     },
     "execution_count": 13,
     "metadata": {},
     "output_type": "execute_result"
    }
   ],
   "source": [
    "A.__dict__"
   ]
  }
 ],
 "metadata": {
  "kernelspec": {
   "display_name": "Python 3",
   "language": "python",
   "name": "python3"
  },
  "language_info": {
   "codemirror_mode": {
    "name": "ipython",
    "version": 3
   },
   "file_extension": ".py",
   "mimetype": "text/x-python",
   "name": "python",
   "nbconvert_exporter": "python",
   "pygments_lexer": "ipython3",
   "version": "3.5.1"
  }
 },
 "nbformat": 4,
 "nbformat_minor": 0
}
