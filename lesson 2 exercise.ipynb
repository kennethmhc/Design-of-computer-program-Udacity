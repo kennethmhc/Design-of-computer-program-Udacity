{
 "cells": [
  {
   "cell_type": "code",
   "execution_count": 22,
   "metadata": {
    "collapsed": true
   },
   "outputs": [],
   "source": [
    "def floor_puzzle():\n",
    "    # Your code here\n",
    "    Hopper, Kay, Liskov, Perlis, Ritchie = next((h, k, l, p, r) \n",
    "                                                for h, k, l, p, r in itertools.permutations([1,2,3,4,5],5) \n",
    "                                                if h < 5 and \n",
    "                                                k > 0 and\n",
    "                                                l > 0 and\n",
    "                                                l < 5 and\n",
    "                                                p > k and\n",
    "                                                abs(r-l) > 1 and\n",
    "                                                abs(k-l) > 1)                                              \n",
    "                                                \n",
    "                                                \n",
    "    return [Hopper, Kay, Liskov, Perlis, Ritchie]"
   ]
  },
  {
   "cell_type": "code",
   "execution_count": 23,
   "metadata": {
    "collapsed": false
   },
   "outputs": [
    {
     "data": {
      "text/plain": [
       "[2, 1, 3, 4, 5]"
      ]
     },
     "execution_count": 23,
     "metadata": {},
     "output_type": "execute_result"
    }
   ],
   "source": [
    "floor_puzzle()"
   ]
  },
  {
   "cell_type": "code",
   "execution_count": 4,
   "metadata": {
    "collapsed": true
   },
   "outputs": [],
   "source": [
    "import itertools"
   ]
  },
  {
   "cell_type": "code",
   "execution_count": 9,
   "metadata": {
    "collapsed": false
   },
   "outputs": [
    {
     "data": {
      "text/plain": [
       "[(1, 2), (1, 3), (2, 1), (2, 3), (3, 1), (3, 2)]"
      ]
     },
     "execution_count": 9,
     "metadata": {},
     "output_type": "execute_result"
    }
   ],
   "source": [
    "list(itertools.permutations([1,2,3],2))"
   ]
  },
  {
   "cell_type": "code",
   "execution_count": 27,
   "metadata": {
    "collapsed": false
   },
   "outputs": [
    {
     "data": {
      "text/plain": [
       "3"
      ]
     },
     "execution_count": 27,
     "metadata": {},
     "output_type": "execute_result"
    }
   ],
   "source": [
    "\"abca\".index(\"a\",1)"
   ]
  },
  {
   "cell_type": "code",
   "execution_count": null,
   "metadata": {
    "collapsed": true
   },
   "outputs": [],
   "source": []
  },
  {
   "cell_type": "code",
   "execution_count": 324,
   "metadata": {
    "collapsed": false
   },
   "outputs": [],
   "source": [
    "def longest_subpalindrome_slice(text):\n",
    "    \"Return (i, j) such that text[i:j] is the longest palindrome in text.\"\n",
    "    # Your code here\n",
    "    max_len = 0\n",
    "    max_start = 0\n",
    "    max_end = 0\n",
    "    text = text.lower()\n",
    "    for i, c in enumerate(text):\n",
    "        #yield i, c\n",
    "        text_len = len(text)\n",
    "        last_c = text_len\n",
    "        while i is not last_c:\n",
    "            #yield last_c\n",
    "            last_c = last_c - text[i:last_c][::-1].index(c)\n",
    "            #yield last_c\n",
    "            #yield text[i:last_c] == text[i:last_c][::-1] \n",
    "            #yield len(text[i:last_c]) > 1\n",
    "            if text[i:last_c] == text[i:last_c][::-1] and len(text[i:last_c]) > 1:\n",
    "                #yield max_len < last_c - i + 1\n",
    "                if max_len < last_c - i + 1:\n",
    "                    max_start = i\n",
    "                    max_end = last_c\n",
    "                    max_len = last_c - i + 1\n",
    "                    #yield max_start, max_end\n",
    "            if i is not last_c:    \n",
    "                last_c -= 1\n",
    "    return (max_start, max_end)\n",
    "            \n"
   ]
  },
  {
   "cell_type": "code",
   "execution_count": 325,
   "metadata": {
    "collapsed": false
   },
   "outputs": [],
   "source": [
    "k = longest_subpalindrome_slice('something rac e car going')\n"
   ]
  },
  {
   "cell_type": "code",
   "execution_count": 326,
   "metadata": {
    "collapsed": false
   },
   "outputs": [
    {
     "data": {
      "text/plain": [
       "(8, 21)"
      ]
     },
     "execution_count": 326,
     "metadata": {},
     "output_type": "execute_result"
    }
   ],
   "source": [
    "k"
   ]
  },
  {
   "cell_type": "code",
   "execution_count": 312,
   "metadata": {
    "collapsed": false
   },
   "outputs": [
    {
     "data": {
      "text/plain": [
       "7"
      ]
     },
     "execution_count": 312,
     "metadata": {},
     "output_type": "execute_result"
    }
   ],
   "source": [
    "next(k)"
   ]
  },
  {
   "cell_type": "code",
   "execution_count": 327,
   "metadata": {
    "collapsed": false
   },
   "outputs": [
    {
     "name": "stdout",
     "output_type": "stream",
     "text": [
      "tests pass\n"
     ]
    }
   ],
   "source": [
    "def test():\n",
    "    L = longest_subpalindrome_slice\n",
    "    assert L('racecar') == (0, 7)\n",
    "    assert L('Racecar') == (0, 7)\n",
    "    assert L('RacecarX') == (0, 7)\n",
    "    assert L('Race carr') == (7, 9)\n",
    "    assert L('') == (0, 0)\n",
    "    assert L('something rac e car going') == (8,21)\n",
    "    assert L('xxxxx') == (0, 5)\n",
    "    assert L('Mad am I ma dam.') == (0, 15)\n",
    "    return 'tests pass'\n",
    "\n",
    "print (test())"
   ]
  },
  {
   "cell_type": "code",
   "execution_count": 33,
   "metadata": {
    "collapsed": false
   },
   "outputs": [
    {
     "data": {
      "text/plain": [
       "True"
      ]
     },
     "execution_count": 33,
     "metadata": {},
     "output_type": "execute_result"
    }
   ],
   "source": [
    "1 is not 2"
   ]
  },
  {
   "cell_type": "code",
   "execution_count": null,
   "metadata": {
    "collapsed": true
   },
   "outputs": [],
   "source": []
  }
 ],
 "metadata": {
  "kernelspec": {
   "display_name": "Python 3",
   "language": "python",
   "name": "python3"
  }
 },
 "nbformat": 4,
 "nbformat_minor": 0
}
