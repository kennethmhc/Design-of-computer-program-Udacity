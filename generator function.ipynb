{
 "cells": [
  {
   "cell_type": "markdown",
   "metadata": {},
   "source": [
    "what a generator do is that it stop at the position of yield position and generate output by yield, when the generator is being called again, it starts at the yield position agian <br>\n",
    "when there is multiple yield, it stop at one yield one at a time"
   ]
  },
  {
   "cell_type": "code",
   "execution_count": 76,
   "metadata": {
    "collapsed": true
   },
   "outputs": [],
   "source": [
    "def a():\n",
    "    a = 1\n",
    "    for i in range(10):\n",
    "        yield a+10\n",
    "        yield a\n",
    "        a += 1"
   ]
  },
  {
   "cell_type": "code",
   "execution_count": 92,
   "metadata": {
    "collapsed": false
   },
   "outputs": [
    {
     "name": "stdout",
     "output_type": "stream",
     "text": [
      "at time 0 value is 11\n",
      "at time 1 value is 1\n",
      "at time 2 value is 12\n",
      "at time 3 value is 2\n",
      "at time 4 value is 13\n",
      "at time 5 value is 3\n",
      "at time 6 value is 14\n",
      "at time 7 value is 4\n",
      "at time 8 value is 15\n",
      "at time 9 value is 5\n",
      "at time 10 value is 16\n",
      "at time 11 value is 6\n",
      "at time 12 value is 17\n",
      "at time 13 value is 7\n",
      "at time 14 value is 18\n",
      "at time 15 value is 8\n",
      "at time 16 value is 19\n",
      "at time 17 value is 9\n",
      "at time 18 value is 20\n",
      "at time 19 value is 10\n"
     ]
    }
   ],
   "source": [
    "for t, i in enumerate(a()):\n",
    "    print (\"at time \"+str(t)+ \" value is \"+str(i))"
   ]
  },
  {
   "cell_type": "code",
   "execution_count": 53,
   "metadata": {
    "collapsed": false
   },
   "outputs": [
    {
     "name": "stdout",
     "output_type": "stream",
     "text": [
      "11\n",
      "11\n",
      "11\n",
      "11\n",
      "11\n"
     ]
    }
   ],
   "source": [
    "for i in range(5):\n",
    "    print (next(a()))"
   ]
  },
  {
   "cell_type": "code",
   "execution_count": 78,
   "metadata": {
    "collapsed": false
   },
   "outputs": [],
   "source": [
    "g = a()"
   ]
  },
  {
   "cell_type": "code",
   "execution_count": 90,
   "metadata": {
    "collapsed": false
   },
   "outputs": [
    {
     "data": {
      "text/plain": [
       "6"
      ]
     },
     "execution_count": 90,
     "metadata": {},
     "output_type": "execute_result"
    }
   ],
   "source": [
    "next(g)"
   ]
  }
 ],
 "metadata": {
  "kernelspec": {
   "display_name": "Python 3",
   "language": "python",
   "name": "python3"
  },
  "language_info": {
   "codemirror_mode": {
    "name": "ipython",
    "version": 3
   },
   "file_extension": ".py",
   "mimetype": "text/x-python",
   "name": "python",
   "nbconvert_exporter": "python",
   "pygments_lexer": "ipython3",
   "version": "3.5.1"
  }
 },
 "nbformat": 4,
 "nbformat_minor": 0
}
